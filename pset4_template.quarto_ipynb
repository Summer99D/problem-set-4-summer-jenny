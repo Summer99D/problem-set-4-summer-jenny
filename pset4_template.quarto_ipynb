{
  "cells": [
    {
      "cell_type": "markdown",
      "metadata": {},
      "source": [
        "---\n",
        "title: \"problem set IV\"\n",
        "authors: \"Jenny Zhong & Summer Negahdar\"\n",
        "format: \n",
        "  pdf:\n",
        "    keep-tex: true\n",
        "    include-in-header: \n",
        "       text: |\n",
        "         \\usepackage{fvextra}\n",
        "         \\DefineVerbatimEnvironment{Highlighting}{Verbatim}{breaklines,commandchars=\\\\\\{\\}}\n",
        "include-before-body:\n",
        "  text: |\n",
        "    \\RecustomVerbatimEnvironment{verbatim}{Verbatim}{\n",
        "      showspaces = false,\n",
        "      showtabs = false,\n",
        "      breaksymbolleft={},\n",
        "      breaklines\n",
        "    }\n",
        "---\n",
        "\n",
        "\n",
        "\"This submission is our work alone and complies with the 30538 integrity policy.\" Add your initials to indicate your agreement: **SN** **JZ**\n",
        "\n",
        "5. \"I have uploaded the names of anyone else other than my partner and I worked with on the problem set **[here](https://docs.google.com/forms/d/185usrCREQaUbvAXpWhChkjghdGgmAZXA3lPWpXLLsts/edit)**\"  (1 point)\n",
        "6. Late coins used this pset: \\*\\*\\_\\_\\*\\* Late coins left after submission: \\*\\*\\_\\_\\*\\*\n",
        "7. Knit your `ps4.qmd` to an PDF file to make `ps4.pdf`, \n",
        "    * The PDF should not be more than 25 pages. Use `head()` and re-size figures when appropriate. \n",
        "8. (Partner 1): push  `ps4.qmd` and `ps4.pdf` to your github repo.\n",
        "9. (Partner 1): submit `ps4.pdf` via Gradescope. Add your partner on Gradescope.\n",
        "10. (Partner 1): tag your submission in Gradescope\n",
        " \n",
        "\n",
        "## Download and explore the Provider of Services (POS) file\n",
        "\n",
        "1. The variables that I pulled are: \n",
        "PRVDR_CTGRY_SBTYP_CD: subtype \n",
        "Identifies the subtype of the provider, within the primary category. Used in reporting to show the breakdown of provider categories, mainly for hospitals and SNFs.\n",
        "\n",
        "PRVDR_CTGRY_CD: provider category \n",
        "Identifies the type of provider participating in the Medicare/Medicaid program.\n",
        "\n",
        "PGM_TRMNTN_CD: termination code \n",
        "Indicates the provider’s current termination status.\n",
        "\n",
        "TRMNTN_EXPRTN_DT: Termination or Expiration Date\n",
        "Date the provider was terminated. For CLIA providers, date the laboratory's certificate was terminated or the expiration date of the current CLIA certificate.\n",
        "\n",
        "FAC_NAME: Facility / hospital name \n",
        "Name of the provider certified to participate in the Medicare and/or Medicaid programs.\n",
        "\n",
        "ZIP_CD: Zip code \n",
        "Five-digit ZIP code for a provider's physical address.\n",
        "\n",
        "CHOW_CNT: CHOW Count \n",
        "Number of times this provider has changed ownership.\n",
        "\n",
        "CHOW_DT: CHOW Date\n",
        "Effective date of the most recent change of ownership for this provider.\n",
        "\n",
        "CITY_NAME: City\n",
        "City in which the provider is physically located.\n",
        "\n",
        "PRVDR_NUM: CMS number\n",
        "Provider number \n",
        "Six or ten position identification number that is assigned to a certified provider. This is the CMS Certification Number.\n",
        "\n",
        "2. "
      ],
      "id": "c228f0d3"
    },
    {
      "cell_type": "code",
      "metadata": {},
      "source": [
        "import pandas as pd\n",
        "import geopandas as gpd\n",
        "import shapely\n",
        "import os\n",
        "os.chdir(\"/Users/samarnegahdar/Desktop/untitled folder/problem-set-4-summer-jenny\")\n",
        "pos2016 = pd.read_csv(\"pos2016.csv\")\n",
        "print(pos2016.head(10))"
      ],
      "id": "bc0ef4b5",
      "execution_count": null,
      "outputs": []
    },
    {
      "cell_type": "code",
      "metadata": {},
      "source": [
        "#converting to string\n",
        "pos2016['PRVDR_CTGRY_SBTYP_CD'] = pos2016['PRVDR_CTGRY_SBTYP_CD'].astype(str).str.zfill(2)\n",
        "\n",
        "pos2016['PRVDR_CTGRY_CD'] = pos2016['PRVDR_CTGRY_CD'].astype(str).str.zfill(2)\n",
        "pos2016.head()"
      ],
      "id": "efafad43",
      "execution_count": null,
      "outputs": []
    },
    {
      "cell_type": "code",
      "metadata": {},
      "source": [
        "st_hospitals2016 = pos2016[(pos2016['PRVDR_CTGRY_SBTYP_CD'] == '1.0') & (pos2016['PRVDR_CTGRY_CD'] == '01')]\n",
        "\n",
        "print(st_hospitals2016.head())\n",
        "st_hospitals2016.shape"
      ],
      "id": "98411673",
      "execution_count": null,
      "outputs": []
    },
    {
      "cell_type": "markdown",
      "metadata": {},
      "source": [
        "a. 7,245 hospitals are reported in this data. \n",
        "b. [To be filled in]\n",
        "\n",
        "adding the year 2016"
      ],
      "id": "da0e8fb4"
    },
    {
      "cell_type": "code",
      "metadata": {},
      "source": [
        "st_hospitals2016.loc[:, 'YEAR'] = 2016\n",
        "print(st_hospitals2016)"
      ],
      "id": "d0abb35d",
      "execution_count": null,
      "outputs": []
    },
    {
      "cell_type": "markdown",
      "metadata": {},
      "source": [
        "3. \n",
        "for 2017: "
      ],
      "id": "86db58e0"
    },
    {
      "cell_type": "code",
      "metadata": {},
      "source": [
        "#importing pos2017\n",
        "pos2017 = pd.read_csv(\"pos2017.csv\", encoding='latin1')"
      ],
      "id": "5c8a8138",
      "execution_count": null,
      "outputs": []
    },
    {
      "cell_type": "code",
      "metadata": {},
      "source": [
        "#converting to string\n",
        "pos2017['PRVDR_CTGRY_SBTYP_CD'] = pos2017['PRVDR_CTGRY_SBTYP_CD'].astype(str).str.zfill(2)\n",
        "\n",
        "pos2017['PRVDR_CTGRY_CD'] = pos2017['PRVDR_CTGRY_CD'].astype(str).str.zfill(2) ##filling numbers with a zero before integer\n",
        "pos2017.head()"
      ],
      "id": "b96a2f86",
      "execution_count": null,
      "outputs": []
    },
    {
      "cell_type": "code",
      "metadata": {},
      "source": [
        "#then focusing on short term hospitals \n",
        "st_hospitals2017 = pos2017[(pos2017['PRVDR_CTGRY_SBTYP_CD'] == '1.0') & (pos2017['PRVDR_CTGRY_CD'] == '01')]\n",
        "\n",
        "print(st_hospitals2017.head())\n",
        "print(st_hospitals2017.tail())\n",
        "st_hospitals2017.shape"
      ],
      "id": "c748dc35",
      "execution_count": null,
      "outputs": []
    },
    {
      "cell_type": "markdown",
      "metadata": {},
      "source": [
        "Adding the 2017 column "
      ],
      "id": "2c82632d"
    },
    {
      "cell_type": "code",
      "metadata": {},
      "source": [
        "st_hospitals2017.loc[:, 'YEAR'] = 2017\n",
        "\n",
        "print(st_hospitals2017)"
      ],
      "id": "9b3f73b2",
      "execution_count": null,
      "outputs": []
    },
    {
      "cell_type": "markdown",
      "metadata": {},
      "source": [
        "for 2018: "
      ],
      "id": "9a8d243a"
    },
    {
      "cell_type": "code",
      "metadata": {},
      "source": [
        "#importing pos2018\n",
        "pos2018 = pd.read_csv('pos2018.csv', encoding='latin1')"
      ],
      "id": "103770a9",
      "execution_count": null,
      "outputs": []
    },
    {
      "cell_type": "code",
      "metadata": {},
      "source": [
        "#converting to string\n",
        "pos2018['PRVDR_CTGRY_SBTYP_CD'] = pos2018['PRVDR_CTGRY_SBTYP_CD'].astype(str).str.zfill(2)\n",
        "\n",
        "pos2018['PRVDR_CTGRY_CD'] = pos2018['PRVDR_CTGRY_CD'].astype(str).str.zfill(2)\n",
        "pos2018.head()"
      ],
      "id": "45d6639e",
      "execution_count": null,
      "outputs": []
    },
    {
      "cell_type": "code",
      "metadata": {},
      "source": [
        "#then focus on st hospitals \n",
        "st_hospitals2018 = pos2018[(pos2018['PRVDR_CTGRY_SBTYP_CD'] == '1.0') & (pos2018['PRVDR_CTGRY_CD'] == '01')]\n",
        "\n",
        "print(st_hospitals2018.head())\n",
        "print(st_hospitals2018.tail())\n",
        "st_hospitals2018.shape"
      ],
      "id": "4f560428",
      "execution_count": null,
      "outputs": []
    },
    {
      "cell_type": "markdown",
      "metadata": {},
      "source": [
        "Adding the 2018 column "
      ],
      "id": "f5627f09"
    },
    {
      "cell_type": "code",
      "metadata": {},
      "source": [
        "#column had to be extended\n",
        "st_hospitals2018.loc[:, 'YEAR'] = 2018\n",
        "\n",
        "print(st_hospitals2018)"
      ],
      "id": "112ab89f",
      "execution_count": null,
      "outputs": []
    },
    {
      "cell_type": "markdown",
      "metadata": {},
      "source": [
        "for 2019: "
      ],
      "id": "bebb4e7b"
    },
    {
      "cell_type": "code",
      "metadata": {},
      "source": [
        "#importing pos2019\n",
        "pos2019 = pd.read_csv('pos2019.csv', encoding='latin1')"
      ],
      "id": "5990cc1f",
      "execution_count": null,
      "outputs": []
    },
    {
      "cell_type": "code",
      "metadata": {},
      "source": [
        "#converting to string\n",
        "pos2019['PRVDR_CTGRY_SBTYP_CD'] = pos2019['PRVDR_CTGRY_SBTYP_CD'].astype(str).str.zfill(2)\n",
        "\n",
        "pos2019['PRVDR_CTGRY_CD'] = pos2019['PRVDR_CTGRY_CD'].astype(str).str.zfill(2)\n",
        "pos2019.head()"
      ],
      "id": "bab6977d",
      "execution_count": null,
      "outputs": []
    },
    {
      "cell_type": "code",
      "metadata": {},
      "source": [
        "#then focus on st hospitals \n",
        "st_hospitals2019 = pos2019[(pos2019['PRVDR_CTGRY_SBTYP_CD'] == '1.0') & (pos2019['PRVDR_CTGRY_CD'] == '01')]\n",
        "\n",
        "print(st_hospitals2019.head())\n",
        "print(st_hospitals2019.tail())\n",
        "st_hospitals2019.shape"
      ],
      "id": "92e75808",
      "execution_count": null,
      "outputs": []
    },
    {
      "cell_type": "markdown",
      "metadata": {},
      "source": [
        "Adding the 2019 column "
      ],
      "id": "4dc4c1a5"
    },
    {
      "cell_type": "code",
      "metadata": {},
      "source": [
        "st_hospitals2019.loc[:, 'YEAR'] = 2019\n",
        "\n",
        "print(st_hospitals2019.head(5))"
      ],
      "id": "f5855272",
      "execution_count": null,
      "outputs": []
    },
    {
      "cell_type": "markdown",
      "metadata": {},
      "source": [
        "**Appending them together**"
      ],
      "id": "8306837a"
    },
    {
      "cell_type": "code",
      "metadata": {},
      "source": [
        "all_years_data = pd.concat([st_hospitals2016, st_hospitals2017, st_hospitals2018, st_hospitals2019], ignore_index=True)\n",
        "\n",
        "print(all_years_data.head())"
      ],
      "id": "8fae9026",
      "execution_count": null,
      "outputs": []
    },
    {
      "cell_type": "markdown",
      "metadata": {},
      "source": [
        "4. \n",
        "    a."
      ],
      "id": "567584ae"
    },
    {
      "cell_type": "code",
      "metadata": {
        "md-indent": "    "
      },
      "source": [
        "#we will be plotting all unique hospitals"
      ],
      "id": "7b91f37e",
      "execution_count": null,
      "outputs": []
    },
    {
      "cell_type": "markdown",
      "metadata": {},
      "source": [
        "    b. \n",
        "\n",
        "## Identify hospital closures in POS file (15 pts) (*)\n",
        "\n",
        "1. \n"
      ],
      "id": "7ffc22e5"
    },
    {
      "cell_type": "code",
      "metadata": {},
      "source": [
        "# List to store suspected closures\n",
        "suspected_closures = []\n",
        "\n",
        "# Filter for hospitals that were active in 2016\n",
        "active_2016 = all_years_data[(all_years_data['YEAR'] == 2016) & (all_years_data['PGM_TRMNTN_CD'] == 0)]\n",
        "\n",
        "# Loop through each hospital active in 2016\n",
        "for _, hospital in active_2016.iterrows():\n",
        "    facility_name = hospital['FAC_NAME']\n",
        "    zip_code = hospital['ZIP_CD']\n",
        "    \n",
        "    # Check if the hospital is closed in 2019 with specific closure codes (1, 2, 3, or 4)\n",
        "    closed_2019 = all_years_data[\n",
        "        (all_years_data['FAC_NAME'] == facility_name) &\n",
        "        (all_years_data['ZIP_CD'] == zip_code) &\n",
        "        (all_years_data['YEAR'] == 2019) &\n",
        "        (all_years_data['PGM_TRMNTN_CD'].isin([1, 2, 3, 4]))\n",
        "    ]\n",
        "    \n",
        "    # If the hospital is closed in 2019, add it to the suspected closures\n",
        "    if not closed_2019.empty:\n",
        "        suspected_closures.append({\n",
        "            'FAC_NAME': facility_name,\n",
        "            'ZIP_CD': zip_code,\n",
        "            'year_of_closure': 2019\n",
        "        })\n",
        "\n",
        "# Convert to DataFrame and remove duplicates to ensure unique hospitals\n",
        "suspected_closures_df = pd.DataFrame(suspected_closures).drop_duplicates(subset=['FAC_NAME', 'ZIP_CD'])\n",
        "\n",
        "# Display the count of unique suspected closures\n",
        "num_unique_suspected_closures = len(suspected_closures_df)\n",
        "print(f\"Number of unique hospitals suspected to have closed by 2019: {num_unique_suspected_closures}\")\n",
        "print(suspected_closures_df)"
      ],
      "id": "86995de4",
      "execution_count": null,
      "outputs": []
    },
    {
      "cell_type": "markdown",
      "metadata": {},
      "source": [
        "2. \n"
      ],
      "id": "9648d644"
    },
    {
      "cell_type": "code",
      "metadata": {},
      "source": [
        "print(suspected_closures_df.head(10))"
      ],
      "id": "93698458",
      "execution_count": null,
      "outputs": []
    },
    {
      "cell_type": "markdown",
      "metadata": {},
      "source": [
        "3. \n",
        "    a.\n"
      ],
      "id": "15cd24d6"
    },
    {
      "cell_type": "code",
      "metadata": {},
      "source": [
        "# Pivot the data to have separate columns for termination codes for each year\n",
        "termination_pivot = suspected_closures_df.pivot(index=['FAC_NAME', 'ZIP_CD'], columns='YEAR', values='PGM_TRMNTN_CD').reset_index()\n",
        "\n",
        "# Rename the columns to make it clearer\n",
        "termination_pivot.columns = ['FAC_NAME', 'ZIP_CD', 'PGM_TRMNTN_CD_2017', 'PGM_TRMNTN_CD_2018', 'PGM_TRMNTN_CD_2019']\n",
        "\n",
        "# Filter for hospitals where termination codes for 2017 and 2019 are not the same as 2018\n",
        "hospitals_different_termination = termination_pivot[\n",
        "    (termination_pivot['PGM_TRMNTN_CD_2018'] != termination_pivot['PGM_TRMNTN_CD_2017']) &\n",
        "    (termination_pivot['PGM_TRMNTN_CD_2018'] != termination_pivot['PGM_TRMNTN_CD_2019'])\n",
        "]\n",
        "\n",
        "# Display the results\n",
        "print(\"Hospitals where termination code for 2017 and 2019 is different from 2018:\")\n",
        "print(hospitals_different_termination)"
      ],
      "id": "ae5bce90",
      "execution_count": null,
      "outputs": []
    },
    {
      "cell_type": "markdown",
      "metadata": {},
      "source": [
        "# Display the results\n",
        "print(\"Hospitals where termination code for 2017 and 2019 is different from 2018:\")\n",
        "print(hospitals_different_termination)\n",
        "    ```\n"
      ],
      "id": "31533461"
    },
    {
      "cell_type": "code",
      "metadata": {},
      "source": [
        "# Ensure PGM_TRMNTN_CD is integer across all years for consistent comparison\n",
        "all_years_data['PGM_TRMNTN_CD'] = pd.to_numeric(all_years_data['PGM_TRMNTN_CD'], errors='coerce').fillna(0).astype(int)\n",
        "\n",
        "# Initialize lists to store properly closed hospitals and suspected mergers\n",
        "properly_closed_hospitals = []\n",
        "merge_hospitals = []\n",
        "\n",
        "# Iterate over each hospital in suspected_closures_df\n",
        "for _, hospital in suspected_closures_df.iterrows():\n",
        "    facility_name = hospital['FAC_NAME']\n",
        "    zip_code = hospital['ZIP_CD']\n",
        "    \n",
        "    # Filter for this hospital's data in all_years_data for the years 2017 and 2018\n",
        "    hospital_data = all_years_data[\n",
        "        (all_years_data['FAC_NAME'] == facility_name) & \n",
        "        (all_years_data['ZIP_CD'] == zip_code) &\n",
        "        (all_years_data['YEAR'].isin([2017, 2018]))\n",
        "    ]\n",
        "\n",
        "    # Get the termination codes for 2018 and 2017, defaulting to 0 if the year is missing\n",
        "    termination_2018 = hospital_data[hospital_data['YEAR'] == 2018]['PGM_TRMNTN_CD'].iloc[0] if not hospital_data[hospital_data['YEAR'] == 2018].empty else 0\n",
        "    termination_2017 = hospital_data[hospital_data['YEAR'] == 2017]['PGM_TRMNTN_CD'].iloc[0] if not hospital_data[hospital_data['YEAR'] == 2017].empty else 0\n",
        "\n",
        "    # Classification logic as per the description\n",
        "    if termination_2018 != 0:\n",
        "        # Properly closed if terminated in 2018 (code other than 0)\n",
        "        properly_closed_hospitals.append({\n",
        "            'FAC_NAME': facility_name,\n",
        "            'ZIP_CD': zip_code,\n",
        "            'PGM_TRMNTN_CD_2017': termination_2017,\n",
        "            'PGM_TRMNTN_CD_2018': termination_2018\n",
        "        })\n",
        "    elif termination_2018 == 0:\n",
        "        # If active in 2018, check 2017 status\n",
        "        if termination_2017 == 0:\n",
        "            # Properly closed if also active in 2017\n",
        "            properly_closed_hospitals.append({\n",
        "                'FAC_NAME': facility_name,\n",
        "                'ZIP_CD': zip_code,\n",
        "                'PGM_TRMNTN_CD_2017': termination_2017,\n",
        "                'PGM_TRMNTN_CD_2018': termination_2018\n",
        "            })\n",
        "        else:\n",
        "            # Otherwise, add to suspected mergers\n",
        "            merge_hospitals.append({\n",
        "                'FAC_NAME': facility_name,\n",
        "                'ZIP_CD': zip_code,\n",
        "                'PGM_TRMNTN_CD_2017': termination_2017,\n",
        "                'PGM_TRMNTN_CD_2018': termination_2018\n",
        "            })\n",
        "\n",
        "# Convert results to DataFrames for inspection\n",
        "properly_closed_hospitals_df = pd.DataFrame(properly_closed_hospitals)\n",
        "merge_hospitals_df = pd.DataFrame(merge_hospitals)\n",
        "\n",
        "# Display results\n",
        "print(\"Properly closed hospitals:\")\n",
        "print(properly_closed_hospitals_df)\n",
        "\n",
        "print(\"\\nHospitals suspected of merger:\")\n",
        "print(merge_hospitals_df)\n",
        "\n",
        "# Number of properly closed hospitals\n",
        "num_properly_closed = properly_closed_hospitals_df.shape[0]\n",
        "print(f\"Number of properly closed hospitals: {num_properly_closed}\")\n",
        "\n",
        "# Number of suspected mergers\n",
        "num_suspected_mergers = merge_hospitals_df.shape[0]\n",
        "print(f\"Number of suspected mergers: {num_suspected_mergers}\")"
      ],
      "id": "4f232db1",
      "execution_count": null,
      "outputs": []
    },
    {
      "cell_type": "markdown",
      "metadata": {},
      "source": [
        "    b.\n",
        "    c.\n",
        "\n",
        "## Download Census zip code shapefile (10 pt) \n",
        "\n",
        "1. \n",
        "    a.\n",
        "    b. \n",
        "2. \n",
        "\n",
        "## Calculate zip code’s distance to the nearest hospital (20 pts) (*)\n",
        "\n",
        "1. \n",
        "2. \n",
        "3. \n",
        "4. \n",
        "    a.\n",
        "    b.\n",
        "5. \n",
        "    a.\n",
        "    b.\n",
        "    c.\n",
        "    \n",
        "## Effects of closures on access in Texas (15 pts)\n",
        "\n",
        "1. \n",
        "2. \n",
        "3. \n",
        "4. \n",
        "\n",
        "## Reflecting on the exercise (10 pts) "
      ],
      "id": "42fd3dea"
    }
  ],
  "metadata": {
    "kernelspec": {
      "name": "python3",
      "language": "python",
      "display_name": "Python 3 (ipykernel)",
      "path": "/Users/samarnegahdar/Desktop/untitled folder/problem-set-4-summer-jenny/.venv/share/jupyter/kernels/python3"
    }
  },
  "nbformat": 4,
  "nbformat_minor": 5
}